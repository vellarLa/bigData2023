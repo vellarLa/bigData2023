{
 "cells": [
  {
   "cell_type": "raw",
   "id": "31630943-665f-49ca-89f6-b993873757f8",
   "metadata": {},
   "source": [
    "Создание Resilient Distributed Dataset"
   ]
  },
  {
   "cell_type": "code",
   "execution_count": 1,
   "id": "5392bc2e-c812-46ef-869d-1d215e70982b",
   "metadata": {},
   "outputs": [],
   "source": [
    "from pyspark import SparkContext, SparkConf\n",
    "conf = SparkConf().setAppName(\"lab1\").setMaster('local')\n",
    "sc = SparkContext.getOrCreate(conf=conf)"
   ]
  },
  {
   "cell_type": "code",
   "execution_count": 2,
   "id": "e4d84e09-832c-4e78-b7b3-b34257e6f7e2",
   "metadata": {},
   "outputs": [
    {
     "data": {
      "text/plain": [
       "12851"
      ]
     },
     "execution_count": 2,
     "metadata": {},
     "output_type": "execute_result"
    }
   ],
   "source": [
    "warandpeace = sc.textFile(\"warandsociety.txt\")\n",
    "warandpeace.count()"
   ]
  },
  {
   "cell_type": "code",
   "execution_count": 4,
   "id": "476a6581-bf2f-4213-9316-9c8f9c506c3f",
   "metadata": {},
   "outputs": [],
   "source": [
    "nilFile = sc.textFile(\"nil\")\n",
    "#nilFile.count()"
   ]
  },
  {
   "cell_type": "code",
   "execution_count": 5,
   "id": "7f2c255c-c664-4b10-af97-0a6e6d6d1911",
   "metadata": {},
   "outputs": [
    {
     "data": {
      "text/plain": [
       "['Лев Николаевич Толстой',\n",
       " 'Война и мир. Книга 1',\n",
       " '',\n",
       " 'Война и мир – 1',\n",
       " '',\n",
       " ' ',\n",
       " ' http://www.lib.ru',\n",
       " '',\n",
       " 'Аннотация ',\n",
       " '']"
      ]
     },
     "execution_count": 5,
     "metadata": {},
     "output_type": "execute_result"
    }
   ],
   "source": [
    "warandpeace.take(10)"
   ]
  },
  {
   "cell_type": "code",
   "execution_count": 6,
   "id": "8bc92f61-2b6c-4d7d-93ab-522290058b38",
   "metadata": {},
   "outputs": [
    {
     "data": {
      "text/plain": [
       "<bound method RDD.getNumPartitions of warandsociety.txt MapPartitionsRDD[1] at textFile at NativeMethodAccessorImpl.java:0>"
      ]
     },
     "execution_count": 6,
     "metadata": {},
     "output_type": "execute_result"
    }
   ],
   "source": [
    "warandpeace.getNumPartitions"
   ]
  },
  {
   "cell_type": "markdown",
   "id": "d6afbf91-e898-4c11-bb67-98fb2dce4c7c",
   "metadata": {},
   "source": [
    "Обработка текста"
   ]
  },
  {
   "cell_type": "code",
   "execution_count": 7,
   "id": "4fc1ec96-88ad-47b9-97ec-f4fe085733e9",
   "metadata": {},
   "outputs": [],
   "source": [
    "linesWithWar = warandpeace.filter(lambda x: \"война\" in x)"
   ]
  },
  {
   "cell_type": "code",
   "execution_count": 8,
   "id": "d30ec2fc-3bd6-4b3d-b805-c891c64e2259",
   "metadata": {},
   "outputs": [
    {
     "data": {
      "text/plain": [
       "\"– Еh bien, mon prince. Genes et Lucques ne sont plus que des apanages, des поместья, de la famille Buonaparte. Non, je vous previens, que si vous ne me dites pas, que nous avons la guerre, si vous vous permettez encore de pallier toutes les infamies, toutes les atrocites de cet Antichrist (ma parole, j'y crois) – je ne vous connais plus, vous n'etes plus mon ami, vous n'etes plus мой верный раб, comme vous dites. [Ну, что, князь, Генуа и Лукка стали не больше, как поместьями фамилии Бонапарте. Нет, я вас предупреждаю, если вы мне не скажете, что у нас война, если вы еще позволите себе защищать все гадости, все ужасы этого Антихриста (право, я верю, что он Антихрист) – я вас больше не знаю, вы уж не друг мой, вы уж не мой верный раб, как вы говорите.] Ну, здравствуйте, здравствуйте. Je vois que je vous fais peur, [Я вижу, что я вас пугаю,] садитесь и рассказывайте.\""
      ]
     },
     "execution_count": 8,
     "metadata": {},
     "output_type": "execute_result"
    }
   ],
   "source": [
    "linesWithWar.first()"
   ]
  },
  {
   "cell_type": "code",
   "execution_count": 9,
   "id": "30d847b6-00a9-4e40-a8d8-70e46a0a9326",
   "metadata": {},
   "outputs": [],
   "source": [
    "def time(f):    \n",
    "    import time\n",
    "    t = time.process_time()\n",
    "    f()\n",
    "    print(f\"Elapsed time: {int((time.process_time() - t)*1e9)} ns\")"
   ]
  },
  {
   "cell_type": "code",
   "execution_count": 10,
   "id": "966ba057-a3b7-4087-a7f0-f63bede04e79",
   "metadata": {},
   "outputs": [
    {
     "data": {
      "text/plain": [
       "PythonRDD[10] at RDD at PythonRDD.scala:53"
      ]
     },
     "execution_count": 10,
     "metadata": {},
     "output_type": "execute_result"
    }
   ],
   "source": [
    "linesWithWar.cache()"
   ]
  },
  {
   "cell_type": "code",
   "execution_count": 11,
   "id": "40971828-8c06-4c36-a579-08d04a80e97f",
   "metadata": {},
   "outputs": [
    {
     "name": "stdout",
     "output_type": "stream",
     "text": [
      "Elapsed time: 11982444 ns\n",
      "Elapsed time: 8917253 ns\n"
     ]
    }
   ],
   "source": [
    "time(lambda: linesWithWar.count() )\n",
    "time(lambda: linesWithWar.count() )"
   ]
  },
  {
   "cell_type": "code",
   "execution_count": 50,
   "id": "3c74c648-f11f-4d90-9c41-4d9b010ceb83",
   "metadata": {},
   "outputs": [],
   "source": [
    "wordCounts = linesWithWar.flatMap(lambda line: line.split(\" \")).map(lambda word: re.sub('[A-ZА-Я]', lambda m: m.group(0).lower(), word)).map(lambda word: re.sub(r'[^\\w\\s]','',word)).map(lambda word: (word, 1)).reduceByKey(lambda a, b: a + b)"
   ]
  },
  {
   "cell_type": "code",
   "execution_count": 54,
   "id": "ed4510e7-1d80-4eae-8d5d-5702fd6a4851",
   "metadata": {},
   "outputs": [],
   "source": [
    "#wordCounts.saveAsTextFile(\"warandpeace_histogram7.txt\")"
   ]
  },
  {
   "cell_type": "code",
   "execution_count": 53,
   "id": "244f1b61-edf2-432e-ba0d-81d93855da25",
   "metadata": {},
   "outputs": [],
   "source": [
    " #!hadoop fs -cat warandpeace_histogram7.txt/*"
   ]
  },
  {
   "cell_type": "code",
   "execution_count": 20,
   "id": "b9c80e6f-760f-4e55-aff4-3f0f4e6c11a3",
   "metadata": {},
   "outputs": [],
   "source": [
    "# Упражнение (регулярные выражения)\n",
    "wordCounts = linesWithWar.flatMap(lambda line: line.split(\" \")).map(lambda word: re.sub('[A-ZА-Я]', lambda m: m.group(0).lower(), word)).map(lambda word: re.sub(r'[^\\w\\s]','',word)).map(lambda word: (word, 1)).reduceByKey(lambda a, b: a + b)\n",
    "#wordCounts.saveAsTextFile(\"warandpeace_histogramRegular.txt\")"
   ]
  },
  {
   "cell_type": "markdown",
   "id": "67d2db78-f990-41d8-b08e-4e173d15db57",
   "metadata": {},
   "source": [
    "Операции с множествами"
   ]
  },
  {
   "cell_type": "code",
   "execution_count": 21,
   "id": "3f357bdc-ee21-4fde-ac94-b612b07e3c9c",
   "metadata": {},
   "outputs": [],
   "source": [
    "a = sc.parallelize([1,2,3,4])\n",
    "b = sc.parallelize([3,4,6,7])"
   ]
  },
  {
   "cell_type": "code",
   "execution_count": 22,
   "id": "ac5ff0a0-a575-42ff-be0c-a9b8ecb6d329",
   "metadata": {},
   "outputs": [
    {
     "data": {
      "text/plain": [
       "[2, 4, 6, 1, 3, 7]"
      ]
     },
     "execution_count": 22,
     "metadata": {},
     "output_type": "execute_result"
    }
   ],
   "source": [
    "a.union(b).distinct().collect()"
   ]
  },
  {
   "cell_type": "code",
   "execution_count": 23,
   "id": "94fccaf8-949f-43d6-b9a9-cd15a84ab30b",
   "metadata": {},
   "outputs": [
    {
     "data": {
      "text/plain": [
       "[4, 3]"
      ]
     },
     "execution_count": 23,
     "metadata": {},
     "output_type": "execute_result"
    }
   ],
   "source": [
    "a.intersection(b).collect()"
   ]
  },
  {
   "cell_type": "code",
   "execution_count": 24,
   "id": "95612959-b931-4356-9e78-1f32156a19a1",
   "metadata": {},
   "outputs": [
    {
     "data": {
      "text/plain": [
       "[2, 1]"
      ]
     },
     "execution_count": 24,
     "metadata": {},
     "output_type": "execute_result"
    }
   ],
   "source": [
    "a.subtract(b).collect()"
   ]
  },
  {
   "cell_type": "markdown",
   "id": "969eae44-a4c6-4c1d-b38e-c97dc8769219",
   "metadata": {},
   "source": [
    "Общие переменные"
   ]
  },
  {
   "cell_type": "code",
   "execution_count": 25,
   "id": "96b52104-fd76-4eef-a98c-2a8b5a9d5615",
   "metadata": {},
   "outputs": [],
   "source": [
    "broadcastVar = sc.broadcast([1,2,3])"
   ]
  },
  {
   "cell_type": "code",
   "execution_count": 26,
   "id": "11820af3-b31c-45eb-8b39-a498d33b5ae3",
   "metadata": {},
   "outputs": [
    {
     "data": {
      "text/plain": [
       "[1, 2, 3]"
      ]
     },
     "execution_count": 26,
     "metadata": {},
     "output_type": "execute_result"
    }
   ],
   "source": [
    "broadcastVar.value"
   ]
  },
  {
   "cell_type": "code",
   "execution_count": 27,
   "id": "bd476002-6c10-4894-9feb-90758c13723e",
   "metadata": {},
   "outputs": [],
   "source": [
    "accum = sc.accumulator(0)"
   ]
  },
  {
   "cell_type": "code",
   "execution_count": 28,
   "id": "d6c2f8aa-b5ad-423f-b501-2c61ffedd988",
   "metadata": {},
   "outputs": [],
   "source": [
    "sc.parallelize([1,2,3,4]).foreach(lambda x: accum.add(x))"
   ]
  },
  {
   "cell_type": "code",
   "execution_count": 29,
   "id": "5bef0efe-3f19-4bc1-bd5c-a48ea97bf684",
   "metadata": {},
   "outputs": [
    {
     "data": {
      "text/plain": [
       "10"
      ]
     },
     "execution_count": 29,
     "metadata": {},
     "output_type": "execute_result"
    }
   ],
   "source": [
    "accum.value"
   ]
  },
  {
   "cell_type": "code",
   "execution_count": 30,
   "id": "a40a54c9-686b-4c79-b6b2-ece75c15d0f4",
   "metadata": {},
   "outputs": [],
   "source": [
    "pair = ('a', 'b')"
   ]
  },
  {
   "cell_type": "code",
   "execution_count": 31,
   "id": "f4d6868b-06d1-4d78-a73b-cff6da1c68b0",
   "metadata": {},
   "outputs": [
    {
     "data": {
      "text/plain": [
       "'a'"
      ]
     },
     "execution_count": 31,
     "metadata": {},
     "output_type": "execute_result"
    }
   ],
   "source": [
    "pair[0]"
   ]
  },
  {
   "cell_type": "code",
   "execution_count": 32,
   "id": "3bd231f1-4e29-4d07-b072-a2abc08ed022",
   "metadata": {},
   "outputs": [
    {
     "data": {
      "text/plain": [
       "'b'"
      ]
     },
     "execution_count": 32,
     "metadata": {},
     "output_type": "execute_result"
    }
   ],
   "source": [
    "pair[1]"
   ]
  },
  {
   "cell_type": "markdown",
   "id": "159ccfa2-f229-41cc-bf89-cc60a655be0b",
   "metadata": {},
   "source": [
    "Топ-10 популярных номеров такси"
   ]
  },
  {
   "cell_type": "code",
   "execution_count": 33,
   "id": "fb6cc619-0f39-4d0c-a48b-a761a1148555",
   "metadata": {},
   "outputs": [],
   "source": [
    "taxi = sc.textFile(\"nyctaxi.csv\")"
   ]
  },
  {
   "cell_type": "code",
   "execution_count": 34,
   "id": "7ca8c436-9243-4e18-944b-20dce4209e55",
   "metadata": {},
   "outputs": [
    {
     "name": "stdout",
     "output_type": "stream",
     "text": [
      "\"_id\",\"_rev\",\"dropoff_datetime\",\"dropoff_latitude\",\"dropoff_longitude\",\"hack_license\",\"medallion\",\"passenger_count\",\"pickup_datetime\",\"pickup_latitude\",\"pickup_longitude\",\"rate_code\",\"store_and_fwd_flag\",\"trip_distance\",\"trip_time_in_secs\",\"vendor_id\"\n",
      "\"29b3f4a30dea6688d4c289c9672cb996\",\"1-ddfdec8050c7ef4dc694eeeda6c4625e\",\"2013-01-11 22:03:00\",+4.07033460000000E+001,-7.40144200000000E+001,\"A93D1F7F8998FFB75EEF477EB6077516\",\"68BC16A99E915E44ADA7E639B4DD5F59\",2,\"2013-01-11 21:48:00\",+4.06760670000000E+001,-7.39810790000000E+001,1,,+4.08000000000000E+000,900,\"VTS\"\n",
      "\"2a80cfaa425dcec0861e02ae44354500\",\"1-b72234b58a7b0018a1ec5d2ea0797e32\",\"2013-01-11 04:28:00\",+4.08190960000000E+001,-7.39467470000000E+001,\"64CE1B03FDE343BB8DFB512123A525A4\",\"60150AA39B2F654ED6F0C3AF8174A48A\",1,\"2013-01-11 04:07:00\",+4.07280540000000E+001,-7.40020370000000E+001,1,,+8.53000000000000E+000,1260,\"VTS\"\n",
      "\"29b3f4a30dea6688d4c289c96758d87e\",\"1-387ec30eac5abda89d2abefdf947b2c1\",\"2013-01-11 22:02:00\",+4.07277180000000E+001,-7.39942860000000E+001,\"2D73B0C44F1699C67AB8AE322433BDB7\",\"6F907BC9A85B7034C8418A24A0A75489\",5,\"2013-01-11 21:46:00\",+4.07577480000000E+001,-7.39649810000000E+001,1,,+3.01000000000000E+000,960,\"VTS\"\n",
      "\"2a80cfaa425dcec0861e02ae446226e4\",\"1-aa8b16d6ae44ad906a46cc6581ffea50\",\"2013-01-11 10:03:00\",+4.07643050000000E+001,-7.39544600000000E+001,\"E90018250F0A009433F03BD1E4A4CE53\",\"1AFFD48CC07161DA651625B562FE4D06\",5,\"2013-01-11 09:44:00\",+4.07308080000000E+001,-7.39928280000000E+001,1,,+3.64000000000000E+000,1140,\"VTS\"\n"
     ]
    }
   ],
   "source": [
    "for t in taxi.take(5):\n",
    "    print(t)"
   ]
  },
  {
   "cell_type": "code",
   "execution_count": 35,
   "id": "646422c2-a527-4f1f-9dbe-fe8894d2c999",
   "metadata": {},
   "outputs": [
    {
     "data": {
      "text/plain": [
       "PythonRDD[70] at RDD at PythonRDD.scala:53"
      ]
     },
     "execution_count": 35,
     "metadata": {},
     "output_type": "execute_result"
    }
   ],
   "source": [
    "import itertools\n",
    "taxi.mapPartitionsWithIndex(lambda idx, it:  itertools.islice(it,1,None) if (idx==0) else it  )"
   ]
  },
  {
   "cell_type": "code",
   "execution_count": 36,
   "id": "1bcdda66-4652-481c-937a-55e7b80918f8",
   "metadata": {},
   "outputs": [],
   "source": [
    "taxiParse = taxi.map(lambda line: line.split(\",\"))"
   ]
  },
  {
   "cell_type": "code",
   "execution_count": 37,
   "id": "46c1fc72-18a5-4165-b883-9954bf34be94",
   "metadata": {},
   "outputs": [],
   "source": [
    "taxiMedKey = taxiParse.map(lambda row: (row[6], 1))"
   ]
  },
  {
   "cell_type": "code",
   "execution_count": 38,
   "id": "90c59352-307a-4f83-a4a3-76afa811c3cd",
   "metadata": {},
   "outputs": [],
   "source": [
    "taxiMedCounts = taxiMedKey.reduceByKey(lambda v1, v2: v1+v2)"
   ]
  },
  {
   "cell_type": "code",
   "execution_count": 39,
   "id": "e5baecb5-2107-474f-9b86-df8672f93132",
   "metadata": {},
   "outputs": [
    {
     "name": "stdout",
     "output_type": "stream",
     "text": [
      "('\"AB44AD9A03B7CFAF3925103BDCC0AF23\"', 44)\n",
      "('\"71CACFBADF9568AAE88A843DB511D172\"', 41)\n",
      "('\"6483B9BFCB216EC88986EA3AB13064E7\"', 41)\n",
      "('\"4C73459B430339981D78795300433438\"', 41)\n",
      "('\"67E71D24AF704D814A0A825005ADA72E\"', 40)\n",
      "('\"02E5A4136FD0A775A023A005A4EABC62\"', 40)\n",
      "('\"9DFBCD218E7116F34C044F0680A0FB8A\"', 39)\n",
      "('\"8DEB70907D00AA1D7FF5E2683240549B\"', 39)\n",
      "('\"7989C2AB3F345F4AB54D3CF1E0480D67\"', 39)\n",
      "('\"6C9F67DF658DC5636F9E7752F203F70A\"', 39)\n"
     ]
    }
   ],
   "source": [
    "top10 = taxiMedCounts.map(lambda x: x[::-1]).top(10)\n",
    "for x in top10:\n",
    "    print(x[::-1])"
   ]
  },
  {
   "cell_type": "code",
   "execution_count": 40,
   "id": "6ddbe54d-2af2-4f97-b2fc-9b7049f48309",
   "metadata": {},
   "outputs": [],
   "source": [
    "taxiCounts = taxi.map(lambda line: line.split(\",\")).map(lambda row: (row[6],1)).reduceByKey(lambda a,b: a + b)"
   ]
  },
  {
   "cell_type": "code",
   "execution_count": 41,
   "id": "2416fe08-2a62-4a94-acad-50275f4e2b71",
   "metadata": {},
   "outputs": [
    {
     "data": {
      "text/plain": [
       "PythonRDD[80] at RDD at PythonRDD.scala:53"
      ]
     },
     "execution_count": 41,
     "metadata": {},
     "output_type": "execute_result"
    }
   ],
   "source": [
    "taxiCounts.cache()"
   ]
  },
  {
   "cell_type": "code",
   "execution_count": 42,
   "id": "5e564ab3-dd35-4a4f-8220-101240188626",
   "metadata": {},
   "outputs": [
    {
     "name": "stdout",
     "output_type": "stream",
     "text": [
      "Elapsed time: 13821253 ns\n",
      "Elapsed time: 7931078 ns\n"
     ]
    }
   ],
   "source": [
    "time(lambda: taxiCounts.count())\n",
    "time(lambda: taxiCounts.count())"
   ]
  },
  {
   "cell_type": "code",
   "execution_count": 43,
   "id": "89f7dcd8-e649-4146-8160-73697d3a13bb",
   "metadata": {},
   "outputs": [
    {
     "data": {
      "text/plain": [
       "nyctaxi.csv MapPartitionsRDD[68] at textFile at NativeMethodAccessorImpl.java:0"
      ]
     },
     "execution_count": 43,
     "metadata": {},
     "output_type": "execute_result"
    }
   ],
   "source": [
    "import pyspark\n",
    "taxi.persist(storageLevel=pyspark.StorageLevel.MEMORY_ONLY)"
   ]
  },
  {
   "cell_type": "code",
   "execution_count": 49,
   "id": "d06a5c81-b70a-4e09-8500-c4cee018fc0f",
   "metadata": {},
   "outputs": [
    {
     "name": "stdout",
     "output_type": "stream",
     "text": [
      "WARNING: An illegal reflective access operation has occurred\n",
      "WARNING: Illegal reflective access by org.apache.spark.unsafe.Platform (file:/opt/mapr/spark/spark-3.1.2/jars/spark-unsafe_2.12-3.1.2.0-eep-800.jar) to constructor java.nio.DirectByteBuffer(long,int)\n",
      "WARNING: Please consider reporting this to the maintainers of org.apache.spark.unsafe.Platform\n",
      "WARNING: Use --illegal-access=warn to enable warnings of further illegal reflective access operations\n",
      "WARNING: All illegal access operations will be denied in a future release\n"
     ]
    }
   ],
   "source": [
    "!spark-submit --master yarn --deploy-mode cluster L1_noninteractive_bike_analysis_python.py --conf spark.yarn.submit.waitAppCompletion=true"
   ]
  },
  {
   "cell_type": "raw",
   "id": "dd38f669-7bee-447e-aac9-c873bd8b737a",
   "metadata": {},
   "source": [
    "sc.stop()"
   ]
  },
  {
   "cell_type": "code",
   "execution_count": null,
   "id": "933eab9b-530f-4435-a093-a1551040986f",
   "metadata": {},
   "outputs": [],
   "source": []
  }
 ],
 "metadata": {
  "kernelspec": {
   "display_name": "Python 3",
   "language": "python",
   "name": "python3"
  },
  "language_info": {
   "codemirror_mode": {
    "name": "ipython",
    "version": 3
   },
   "file_extension": ".py",
   "mimetype": "text/x-python",
   "name": "python",
   "nbconvert_exporter": "python",
   "pygments_lexer": "ipython3",
   "version": "3.9.5"
  }
 },
 "nbformat": 4,
 "nbformat_minor": 5
}
