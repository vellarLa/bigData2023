{
 "cells": [
  {
   "cell_type": "code",
   "execution_count": 5,
   "id": "a59d3430-66ec-4b77-9b0d-9cfba652903b",
   "metadata": {},
   "outputs": [],
   "source": [
    "from pyspark import SparkContext, SparkConf\n",
    "from pyspark.sql import SparkSession\n",
    "import pyspark.sql as sql\n",
    "conf = SparkConf().setAppName(\"lab1_San_Francisco\").setMaster('local')\n",
    "sc = SparkContext.getOrCreate(conf=conf)\n",
    "spark = SparkSession(sc)"
   ]
  },
  {
   "cell_type": "code",
   "execution_count": 7,
   "id": "9c20cd33-4ca6-43f4-ac05-62c0c7e9b863",
   "metadata": {},
   "outputs": [
    {
     "data": {
      "text/plain": [
       "DataFrame[id: int, duration: int, start_date: timestamp, start_station_name: string, start_station_id: int, end_date: timestamp, end_station_name: string, end_station_id: int, bike_id: int, subscription_type: string, zip_code: string]"
      ]
     },
     "execution_count": 7,
     "metadata": {},
     "output_type": "execute_result"
    }
   ],
   "source": [
    "tripData = spark.read\\\n",
    ".option(\"header\", True)\\\n",
    ".option(\"inferSchema\", True)\\\n",
    ".option(\"timestampFormat\", 'M/d/y H:m')\\\n",
    ".csv(\"data/trip.csv\")\n",
    "\n",
    "tripData"
   ]
  },
  {
   "cell_type": "code",
   "execution_count": 8,
   "id": "a4bc4245-3d48-4e3a-a4d6-5cf4e10aeaa3",
   "metadata": {},
   "outputs": [
    {
     "data": {
      "text/plain": [
       "DataFrame[id: int, name: string, lat: double, long: double, dock_count: int, city: string, installation_date: timestamp]"
      ]
     },
     "execution_count": 8,
     "metadata": {},
     "output_type": "execute_result"
    }
   ],
   "source": [
    "stationData = spark.read\\\n",
    ".option(\"header\", True)\\\n",
    ".option(\"inferSchema\", True)\\\n",
    ".option(\"timestampFormat\", 'M/d/y')\\\n",
    ".csv(\"data/station.csv\")\n",
    "\n",
    "stationData"
   ]
  },
  {
   "cell_type": "code",
   "execution_count": 9,
   "id": "6bb37a46-c0c9-4db0-a2f9-7271a34be411",
   "metadata": {},
   "outputs": [
    {
     "name": "stdout",
     "output_type": "stream",
     "text": [
      "root\n",
      " |-- id: integer (nullable = true)\n",
      " |-- duration: integer (nullable = true)\n",
      " |-- start_date: timestamp (nullable = true)\n",
      " |-- start_station_name: string (nullable = true)\n",
      " |-- start_station_id: integer (nullable = true)\n",
      " |-- end_date: timestamp (nullable = true)\n",
      " |-- end_station_name: string (nullable = true)\n",
      " |-- end_station_id: integer (nullable = true)\n",
      " |-- bike_id: integer (nullable = true)\n",
      " |-- subscription_type: string (nullable = true)\n",
      " |-- zip_code: string (nullable = true)\n",
      "\n"
     ]
    }
   ],
   "source": [
    "tripData.printSchema()"
   ]
  },
  {
   "cell_type": "code",
   "execution_count": 10,
   "id": "ce4f9ec7-3df4-4299-9254-dbcf0b7335c5",
   "metadata": {},
   "outputs": [
    {
     "name": "stdout",
     "output_type": "stream",
     "text": [
      "root\n",
      " |-- id: integer (nullable = true)\n",
      " |-- name: string (nullable = true)\n",
      " |-- lat: double (nullable = true)\n",
      " |-- long: double (nullable = true)\n",
      " |-- dock_count: integer (nullable = true)\n",
      " |-- city: string (nullable = true)\n",
      " |-- installation_date: timestamp (nullable = true)\n",
      "\n"
     ]
    }
   ],
   "source": [
    "stationData.printSchema()"
   ]
  },
  {
   "cell_type": "code",
   "execution_count": 95,
   "id": "dde5881a-f032-4a2a-a65c-14370e3ed891",
   "metadata": {},
   "outputs": [],
   "source": [
    "from typing import NamedTuple\n",
    "from datetime import datetime\n",
    "from __future__ import division"
   ]
  },
  {
   "cell_type": "code",
   "execution_count": 29,
   "id": "4dbed38c-d89d-4370-bdce-efce52bccd44",
   "metadata": {},
   "outputs": [],
   "source": [
    "def initStation(stations):\n",
    "    class Station(NamedTuple):\n",
    "        station_id: int\n",
    "        name: str\n",
    "        lat: float\n",
    "        long: float\n",
    "        dockcount: int\n",
    "        landmark: str\n",
    "        installation: str\n",
    "    \n",
    "    for station in stations:\n",
    "        yield Station(\n",
    "            station_id = int(station[0]),\n",
    "            name = station[1],\n",
    "            lat = float(station[2]),\n",
    "            long = float(station[3]),\n",
    "            dockcount = int(station[4]),\n",
    "            landmark = station[5],\n",
    "            installation = datetime.strptime(station[6], '%m/%d/%Y')\n",
    "        )"
   ]
  },
  {
   "cell_type": "code",
   "execution_count": 34,
   "id": "693167fd-28d0-46d9-8131-c65b4674a9e7",
   "metadata": {},
   "outputs": [],
   "source": [
    "def initTrip(trips):\n",
    "    class Trip(NamedTuple):\n",
    "        trip_id: int\n",
    "        duration: int\n",
    "        start_date: datetime\n",
    "        start_station_name: str\n",
    "        start_station_id: int\n",
    "        end_date: datetime\n",
    "        end_station_name: str\n",
    "        end_station_id: int\n",
    "        bike_id: int\n",
    "        subscription_type: str\n",
    "        zip_code: str\n",
    "        \n",
    "    for trip in trips:\n",
    "        try:\n",
    "            yield Trip(                             \n",
    "             trip_id = int(trip[0]),\n",
    "             duration = int(trip[1]),\n",
    "             start_date = datetime.strptime(trip[2], '%m/%d/%Y %H:%M'),\n",
    "             start_station_name = trip[3],\n",
    "             start_station_id = int(trip[4]),\n",
    "             end_date = datetime.strptime(trip[5], '%m/%d/%Y %H:%M'),\n",
    "             end_station_name = trip[6],\n",
    "             end_station_id = trip[7],\n",
    "             bike_id = int(trip[8]),\n",
    "             subscription_type = trip[9],\n",
    "             zip_code = trip[10]\n",
    "            ) \n",
    "        except:\n",
    "            pass"
   ]
  },
  {
   "cell_type": "code",
   "execution_count": 35,
   "id": "3fae542f-779f-40ae-aad7-750771a9fd92",
   "metadata": {},
   "outputs": [],
   "source": [
    "tripsData = sc.textFile(\"trip.csv\")\n",
    "stationsData = sc.textFile(\"station.csv\")\n",
    "tripsHeader = tripsData.first()\n",
    "stationsHeader = stationsData.first()"
   ]
  },
  {
   "cell_type": "code",
   "execution_count": 36,
   "id": "1d04980c-614c-4640-9fb8-074e00de9647",
   "metadata": {},
   "outputs": [],
   "source": [
    "trips = tripsData.filter(lambda row: row != tripsHeader).map(lambda row: row.split(\",\", -1))\n",
    "stations = stationsData.filter(lambda row: row != stationsHeader).map(lambda row: row.split(\",\", -1))"
   ]
  },
  {
   "cell_type": "code",
   "execution_count": 33,
   "id": "016574c7-26d8-4ceb-8ebc-9aeb0cf02890",
   "metadata": {},
   "outputs": [],
   "source": [
    "tripsInternal = trips.mapPartitions(initTrip)\n",
    "stationsInternal = stations.mapPartitions(initStation)"
   ]
  },
  {
   "cell_type": "raw",
   "id": "c71ad258-b548-4f50-af93-f3e4931735f0",
   "metadata": {},
   "source": [
    "Найти велосипед с максимальным временем пробега."
   ]
  },
  {
   "cell_type": "code",
   "execution_count": 16,
   "id": "53c9f0e9-d67c-4e73-8be9-cfa07fae61aa",
   "metadata": {},
   "outputs": [],
   "source": [
    "stationData.createOrReplaceTempView(\"stations\")\n",
    "tripData.createOrReplaceTempView(\"trips\")"
   ]
  },
  {
   "cell_type": "code",
   "execution_count": 40,
   "id": "339550dd-fce9-49b8-92f6-a64a07e48ce0",
   "metadata": {},
   "outputs": [
    {
     "name": "stdout",
     "output_type": "stream",
     "text": [
      "+-------+\n",
      "|bike_id|\n",
      "+-------+\n",
      "|    535|\n",
      "+-------+\n",
      "\n"
     ]
    }
   ],
   "source": [
    "spark.sql(\"\"\"\n",
    "    SELECT bike_id\n",
    "    FROM trips\n",
    "    GROUP BY trips.bike_id\n",
    "    ORDER BY sum(duration) DESC\n",
    "    LIMIT 1\n",
    "\"\"\").show()"
   ]
  },
  {
   "cell_type": "code",
   "execution_count": 53,
   "id": "cc049c19-3ac5-408f-ba4c-9c82c0d95467",
   "metadata": {},
   "outputs": [],
   "source": [
    "# 2 способ"
   ]
  },
  {
   "cell_type": "code",
   "execution_count": 128,
   "id": "784e2e3c-fc26-42ff-bd5e-86c8ad65bb4a",
   "metadata": {},
   "outputs": [],
   "source": [
    "bike_max_duration = tripsInternal.map(lambda trip: (trip.bike_id, trip.duration)).reduceByKey(lambda trip1, trip2: trip1 + trip2).top(1, key = lambda trip: trip[1])[0][0]"
   ]
  },
  {
   "cell_type": "code",
   "execution_count": 129,
   "id": "1ea50cf7-8f16-40e1-8317-4a573a36c142",
   "metadata": {},
   "outputs": [
    {
     "data": {
      "text/plain": [
       "535"
      ]
     },
     "execution_count": 129,
     "metadata": {},
     "output_type": "execute_result"
    }
   ],
   "source": [
    "bike_max_duration"
   ]
  },
  {
   "cell_type": "raw",
   "id": "5b135d90-762b-487d-a639-b9b60251bbc6",
   "metadata": {},
   "source": [
    "Найти наибольшее геодезическое расстояние между станциями"
   ]
  },
  {
   "cell_type": "code",
   "execution_count": 122,
   "id": "16f592d0-898a-46e7-abb8-29d99b825df3",
   "metadata": {},
   "outputs": [],
   "source": [
    "from math import sin, cos, sqrt, atan2, radians, acos\n",
    "R = 6371\n",
    "def getDistance(lat1, long1, lat2, long2):\n",
    "    lat1_rad = radians(lat1)\n",
    "    lat2_rad = radians(lat2)\n",
    "    long1_rad = radians(long1)\n",
    "    long2_rad = radians(long2)\n",
    "    d = sin(lat1_rad)*sin(lat2_rad)+cos(lat1_rad)*cos(lat2_rad)*cos(long1_rad-long2_rad)\n",
    "    if -1 <= d <= 1:\n",
    "        return R * acos(d)\n",
    "    else:\n",
    "        return 0"
   ]
  },
  {
   "cell_type": "code",
   "execution_count": 127,
   "id": "6fd3e13e-9bfd-4fbe-abb5-74b843da165d",
   "metadata": {},
   "outputs": [
    {
     "data": {
      "text/plain": [
       "69.92087595421542"
      ]
     },
     "execution_count": 127,
     "metadata": {},
     "output_type": "execute_result"
    }
   ],
   "source": [
    "crossed_stations = stationData.crossJoin(stationData)\n",
    "crossed_stations.rdd.map(lambda x: getDistance(x[2], x[3], x[9], x[10])).max()"
   ]
  },
  {
   "cell_type": "raw",
   "id": "aa68aa00-819c-421d-bf9c-f9af8cd34de7",
   "metadata": {},
   "source": [
    "Найти путь велосипеда с максимальным временем пробега через станции"
   ]
  },
  {
   "cell_type": "code",
   "execution_count": 170,
   "id": "8411e405-ede0-4e57-8cf9-10e8e1b6cd51",
   "metadata": {},
   "outputs": [],
   "source": [
    "stations = tripsInternal.filter(lambda x: x.bike_id == bike_max_duration).sortBy(lambda x: x.start_date).map(lambda x: (x.start_station_name, x.end_station_name))"
   ]
  },
  {
   "cell_type": "code",
   "execution_count": 171,
   "id": "445af5ee-6ff5-49a4-9908-46bbc0dd87f5",
   "metadata": {},
   "outputs": [
    {
     "data": {
      "text/plain": [
       "[('Yerba Buena Center of the Arts (3rd @ Howard)', 'Townsend at 7th'),\n",
       " ('Yerba Buena Center of the Arts (3rd @ Howard)', 'Townsend at 7th'),\n",
       " ('Yerba Buena Center of the Arts (3rd @ Howard)', 'Steuart at Market'),\n",
       " ('Yerba Buena Center of the Arts (3rd @ Howard)', 'Spear at Folsom'),\n",
       " ('Yerba Buena Center of the Arts (3rd @ Howard)', 'Spear at Folsom'),\n",
       " ('Yerba Buena Center of the Arts (3rd @ Howard)', 'South Van Ness at Market'),\n",
       " ('Yerba Buena Center of the Arts (3rd @ Howard)',\n",
       "  'San Francisco Caltrain 2 (330 Townsend)'),\n",
       " ('Yerba Buena Center of the Arts (3rd @ Howard)',\n",
       "  'San Francisco Caltrain 2 (330 Townsend)'),\n",
       " ('Yerba Buena Center of the Arts (3rd @ Howard)',\n",
       "  'San Francisco Caltrain (Townsend at 4th)'),\n",
       " ('Yerba Buena Center of the Arts (3rd @ Howard)',\n",
       "  'San Francisco Caltrain (Townsend at 4th)'),\n",
       " ('Yerba Buena Center of the Arts (3rd @ Howard)',\n",
       "  'San Francisco Caltrain (Townsend at 4th)'),\n",
       " ('Yerba Buena Center of the Arts (3rd @ Howard)', 'Market at Sansome'),\n",
       " ('Yerba Buena Center of the Arts (3rd @ Howard)', 'Market at Sansome'),\n",
       " ('Yerba Buena Center of the Arts (3rd @ Howard)',\n",
       "  'Harry Bridges Plaza (Ferry Building)'),\n",
       " ('Yerba Buena Center of the Arts (3rd @ Howard)',\n",
       "  'Grant Avenue at Columbus Avenue'),\n",
       " ('Yerba Buena Center of the Arts (3rd @ Howard)', '2nd at Townsend'),\n",
       " ('Washington at Kearny', 'Washington at Kearny'),\n",
       " ('Washington at Kearny', 'Temporary Transbay Terminal (Howard at Beale)'),\n",
       " ('Washington at Kearny', 'Powell at Post (Union Square)'),\n",
       " ('Washington at Kearny', 'Harry Bridges Plaza (Ferry Building)'),\n",
       " ('Washington at Kearny', 'Harry Bridges Plaza (Ferry Building)'),\n",
       " ('Washington at Kearny', 'Embarcadero at Sansome'),\n",
       " ('Washington at Kearney', 'Washington at Kearney'),\n",
       " ('Washington at Kearney', 'Market at Sansome'),\n",
       " ('Washington at Kearney', 'Market at Sansome'),\n",
       " ('Washington at Kearney', 'Embarcadero at Sansome'),\n",
       " ('Washington at Kearney', 'Embarcadero at Sansome'),\n",
       " ('Washington at Kearney', 'Embarcadero at Sansome'),\n",
       " ('Washington at Kearney', 'Clay at Battery'),\n",
       " ('Townsend at 7th', 'Yerba Buena Center of the Arts (3rd @ Howard)'),\n",
       " ('Townsend at 7th', 'Temporary Transbay Terminal (Howard at Beale)'),\n",
       " ('Townsend at 7th', 'Temporary Transbay Terminal (Howard at Beale)'),\n",
       " ('Townsend at 7th', 'Spear at Folsom'),\n",
       " ('Townsend at 7th', 'San Francisco City Hall'),\n",
       " ('Townsend at 7th', 'San Francisco Caltrain 2 (330 Townsend)'),\n",
       " ('Townsend at 7th', 'San Francisco Caltrain 2 (330 Townsend)'),\n",
       " ('Townsend at 7th', 'San Francisco Caltrain 2 (330 Townsend)'),\n",
       " ('Townsend at 7th', 'San Francisco Caltrain (Townsend at 4th)'),\n",
       " ('Townsend at 7th', 'San Francisco Caltrain (Townsend at 4th)'),\n",
       " ('Townsend at 7th', 'San Francisco Caltrain (Townsend at 4th)'),\n",
       " ('Townsend at 7th', 'San Francisco Caltrain (Townsend at 4th)'),\n",
       " ('Townsend at 7th', 'San Francisco Caltrain (Townsend at 4th)'),\n",
       " ('Townsend at 7th', 'San Francisco Caltrain (Townsend at 4th)'),\n",
       " ('Townsend at 7th', 'San Francisco Caltrain (Townsend at 4th)'),\n",
       " ('Townsend at 7th', 'San Francisco Caltrain (Townsend at 4th)'),\n",
       " ('Townsend at 7th', 'San Francisco Caltrain (Townsend at 4th)'),\n",
       " ('Townsend at 7th', 'San Francisco Caltrain (Townsend at 4th)'),\n",
       " ('Townsend at 7th', 'San Francisco Caltrain (Townsend at 4th)'),\n",
       " ('Townsend at 7th', 'San Francisco Caltrain (Townsend at 4th)'),\n",
       " ('Townsend at 7th', 'Post at Kearny'),\n",
       " ('Townsend at 7th', 'Market at Sansome'),\n",
       " ('Townsend at 7th', 'Market at 4th'),\n",
       " ('Townsend at 7th', 'Harry Bridges Plaza (Ferry Building)'),\n",
       " ('Townsend at 7th', 'Harry Bridges Plaza (Ferry Building)'),\n",
       " ('Townsend at 7th', 'Golden Gate at Polk'),\n",
       " ('Townsend at 7th', 'Embarcadero at Bryant'),\n",
       " ('Townsend at 7th', 'Beale at Market'),\n",
       " ('Townsend at 7th', '2nd at Townsend'),\n",
       " ('Temporary Transbay Terminal (Howard at Beale)',\n",
       "  'Yerba Buena Center of the Arts (3rd @ Howard)'),\n",
       " ('Temporary Transbay Terminal (Howard at Beale)', 'Washington at Kearny'),\n",
       " ('Temporary Transbay Terminal (Howard at Beale)', 'Townsend at 7th'),\n",
       " ('Temporary Transbay Terminal (Howard at Beale)', 'Spear at Folsom'),\n",
       " ('Temporary Transbay Terminal (Howard at Beale)', 'Spear at Folsom'),\n",
       " ('Temporary Transbay Terminal (Howard at Beale)', 'South Van Ness at Market'),\n",
       " ('Temporary Transbay Terminal (Howard at Beale)',\n",
       "  'San Francisco Caltrain 2 (330 Townsend)'),\n",
       " ('Temporary Transbay Terminal (Howard at Beale)',\n",
       "  'San Francisco Caltrain 2 (330 Townsend)'),\n",
       " ('Temporary Transbay Terminal (Howard at Beale)',\n",
       "  'San Francisco Caltrain 2 (330 Townsend)'),\n",
       " ('Temporary Transbay Terminal (Howard at Beale)',\n",
       "  'San Francisco Caltrain (Townsend at 4th)'),\n",
       " ('Temporary Transbay Terminal (Howard at Beale)',\n",
       "  'San Francisco Caltrain (Townsend at 4th)'),\n",
       " ('Temporary Transbay Terminal (Howard at Beale)',\n",
       "  'Powell at Post (Union Square)'),\n",
       " ('Temporary Transbay Terminal (Howard at Beale)',\n",
       "  'Powell at Post (Union Square)'),\n",
       " ('Temporary Transbay Terminal (Howard at Beale)', 'Powell Street BART'),\n",
       " ('Temporary Transbay Terminal (Howard at Beale)', 'Market at 10th'),\n",
       " ('Temporary Transbay Terminal (Howard at Beale)', 'Howard at 2nd'),\n",
       " ('Temporary Transbay Terminal (Howard at Beale)',\n",
       "  'Grant Avenue at Columbus Avenue'),\n",
       " ('Temporary Transbay Terminal (Howard at Beale)', 'Golden Gate at Polk'),\n",
       " ('Temporary Transbay Terminal (Howard at Beale)', 'Embarcadero at Vallejo'),\n",
       " ('Temporary Transbay Terminal (Howard at Beale)', 'Embarcadero at Vallejo'),\n",
       " ('Temporary Transbay Terminal (Howard at Beale)', 'Embarcadero at Sansome'),\n",
       " ('Temporary Transbay Terminal (Howard at Beale)', 'Embarcadero at Sansome'),\n",
       " ('Temporary Transbay Terminal (Howard at Beale)', 'Embarcadero at Sansome'),\n",
       " ('Temporary Transbay Terminal (Howard at Beale)', 'Clay at Battery'),\n",
       " ('Temporary Transbay Terminal (Howard at Beale)', 'Clay at Battery'),\n",
       " ('Temporary Transbay Terminal (Howard at Beale)', 'Clay at Battery'),\n",
       " ('Temporary Transbay Terminal (Howard at Beale)', 'Clay at Battery'),\n",
       " ('Temporary Transbay Terminal (Howard at Beale)',\n",
       "  'Civic Center BART (7th at Market)'),\n",
       " ('Temporary Transbay Terminal (Howard at Beale)',\n",
       "  'Broadway St at Battery St'),\n",
       " ('Temporary Transbay Terminal (Howard at Beale)',\n",
       "  'Broadway St at Battery St'),\n",
       " ('Temporary Transbay Terminal (Howard at Beale)', '2nd at Townsend'),\n",
       " ('Temporary Transbay Terminal (Howard at Beale)', '2nd at Townsend'),\n",
       " ('Temporary Transbay Terminal (Howard at Beale)', '2nd at Townsend'),\n",
       " ('Temporary Transbay Terminal (Howard at Beale)', '2nd at South Park'),\n",
       " ('Temporary Transbay Terminal (Howard at Beale)', '2nd at South Park'),\n",
       " ('Steuart at Market', 'Townsend at 7th'),\n",
       " ('Steuart at Market', 'Steuart at Market'),\n",
       " ('Steuart at Market', 'Steuart at Market'),\n",
       " ('Steuart at Market', 'Steuart at Market'),\n",
       " ('Steuart at Market', 'Steuart at Market'),\n",
       " ('Steuart at Market', 'Spear at Folsom'),\n",
       " ('Steuart at Market', 'Spear at Folsom')]"
      ]
     },
     "execution_count": 171,
     "metadata": {},
     "output_type": "execute_result"
    }
   ],
   "source": [
    "stations.top(100)"
   ]
  },
  {
   "cell_type": "code",
   "execution_count": 175,
   "id": "873bf085-dd81-4954-8368-744c69fec73f",
   "metadata": {},
   "outputs": [
    {
     "data": {
      "text/plain": [
       "18335738"
      ]
     },
     "execution_count": 175,
     "metadata": {},
     "output_type": "execute_result"
    }
   ],
   "source": [
    "#duration\n",
    "tripsInternal.filter(lambda x: x.bike_id == bike_max_duration).sortBy(lambda x: x.start_date).map(lambda x: (x.bike_id, x.duration)).reduceByKey(lambda trip1, trip2: trip1 + trip2).top(1, key = lambda trip: trip[1])[0][1]"
   ]
  },
  {
   "cell_type": "raw",
   "id": "8849968a-64b3-48cb-a770-6b41c830ffd9",
   "metadata": {},
   "source": [
    "Найти количество велосипедов в системе."
   ]
  },
  {
   "cell_type": "code",
   "execution_count": 174,
   "id": "afc02130-e3aa-40c5-8a50-c6a604eb6d90",
   "metadata": {},
   "outputs": [
    {
     "data": {
      "text/plain": [
       "700"
      ]
     },
     "execution_count": 174,
     "metadata": {},
     "output_type": "execute_result"
    }
   ],
   "source": [
    "tripsInternal.map(lambda trip: trip.bike_id).distinct().count()"
   ]
  },
  {
   "cell_type": "markdown",
   "id": "56aec849-a2e2-4eb0-94ae-5ec86efe1e16",
   "metadata": {},
   "source": [
    "Найти пользователей потративших на поездки более 3 часов"
   ]
  },
  {
   "cell_type": "code",
   "execution_count": 205,
   "id": "96356974-1f65-4e51-b76d-a51f36c37409",
   "metadata": {},
   "outputs": [
    {
     "name": "stdout",
     "output_type": "stream",
     "text": [
      "+-------+\n",
      "|bike_id|\n",
      "+-------+\n",
      "|    471|\n",
      "|    496|\n",
      "|    148|\n",
      "|    463|\n",
      "|    540|\n",
      "|    392|\n",
      "|    623|\n",
      "|    243|\n",
      "|    516|\n",
      "|     31|\n",
      "|    580|\n",
      "|    137|\n",
      "|    251|\n",
      "|    451|\n",
      "|     85|\n",
      "|    458|\n",
      "|     65|\n",
      "|    588|\n",
      "|    255|\n",
      "|     53|\n",
      "+-------+\n",
      "only showing top 20 rows\n",
      "\n"
     ]
    }
   ],
   "source": [
    "spark.sql(\"\"\"\n",
    "        SELECT bike_id\n",
    "        FROM trips\n",
    "        GROUP BY bike_id\n",
    "        HAVING sum(duration) > 180 * 60\n",
    "\"\"\").show()"
   ]
  },
  {
   "cell_type": "code",
   "execution_count": 208,
   "id": "8024670a-a23e-40eb-a717-5fb3af93c39f",
   "metadata": {},
   "outputs": [
    {
     "name": "stdout",
     "output_type": "stream",
     "text": [
      "+--------+\n",
      "|count(1)|\n",
      "+--------+\n",
      "|     699|\n",
      "+--------+\n",
      "\n"
     ]
    }
   ],
   "source": [
    "spark.sql(\"\"\"\n",
    "        SELECT count(*)\n",
    "        FROM (\n",
    "        SELECT bike_id\n",
    "        FROM trips\n",
    "        GROUP BY bike_id\n",
    "        HAVING sum(duration) > 180 * 60)\n",
    "\"\"\").show()"
   ]
  },
  {
   "cell_type": "code",
   "execution_count": 215,
   "id": "2a5f9edd-9a63-433a-a975-b9f3310e12f5",
   "metadata": {},
   "outputs": [],
   "source": [
    "sc.stop()"
   ]
  },
  {
   "cell_type": "code",
   "execution_count": null,
   "id": "f08b8766-4b57-4e73-aec9-22d653174e6d",
   "metadata": {},
   "outputs": [],
   "source": []
  }
 ],
 "metadata": {
  "kernelspec": {
   "display_name": "Python 3",
   "language": "python",
   "name": "python3"
  },
  "language_info": {
   "codemirror_mode": {
    "name": "ipython",
    "version": 3
   },
   "file_extension": ".py",
   "mimetype": "text/x-python",
   "name": "python",
   "nbconvert_exporter": "python",
   "pygments_lexer": "ipython3",
   "version": "3.9.5"
  }
 },
 "nbformat": 4,
 "nbformat_minor": 5
}
