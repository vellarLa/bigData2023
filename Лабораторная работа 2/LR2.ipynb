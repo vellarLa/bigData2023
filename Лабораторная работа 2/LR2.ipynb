{
 "cells": [
  {
   "cell_type": "code",
   "execution_count": 2,
   "id": "f73c8e82-cfb8-466f-a5f2-9f044b45eece",
   "metadata": {},
   "outputs": [],
   "source": [
    "from pyspark import SparkContext, SparkConf\n",
    "from pyspark.sql import SparkSession\n",
    "import pyspark.sql as sql\n",
    "import os\n",
    "os.environ['PYSPARK_SUBMIT_ARGS'] = '--packages com.databricks:spark-xml_2.12:0.14.0 pyspark-shell'\n",
    "conf = SparkConf().setAppName(\"lab2_2\").setMaster('local')\n",
    "sc = SparkContext.getOrCreate(conf=conf)\n",
    "spark = SparkSession(sc)"
   ]
  },
  {
   "cell_type": "code",
   "execution_count": 3,
   "id": "8bc08e84-0d9e-4ddf-951e-c48013be51f8",
   "metadata": {},
   "outputs": [],
   "source": [
    "languages = spark.read.csv(\"programming-languages.csv\")\n",
    "posts_sample = spark.read.format('xml').option('rowTag', 'row').load(\"posts_sample.xml\")"
   ]
  },
  {
   "cell_type": "code",
   "execution_count": 5,
   "id": "12ad2256-fc04-420c-a48a-5a570be096da",
   "metadata": {},
   "outputs": [
    {
     "name": "stdout",
     "output_type": "stream",
     "text": [
      "root\n",
      " |-- _c0: string (nullable = true)\n",
      " |-- _c1: string (nullable = true)\n",
      "\n"
     ]
    }
   ],
   "source": [
    "languages.printSchema()"
   ]
  },
  {
   "cell_type": "code",
   "execution_count": 6,
   "id": "8fdd3667-d353-4ccd-bcd0-30825d2ff8f0",
   "metadata": {},
   "outputs": [
    {
     "name": "stdout",
     "output_type": "stream",
     "text": [
      "root\n",
      " |-- _AcceptedAnswerId: long (nullable = true)\n",
      " |-- _AnswerCount: long (nullable = true)\n",
      " |-- _Body: string (nullable = true)\n",
      " |-- _ClosedDate: timestamp (nullable = true)\n",
      " |-- _CommentCount: long (nullable = true)\n",
      " |-- _CommunityOwnedDate: timestamp (nullable = true)\n",
      " |-- _CreationDate: timestamp (nullable = true)\n",
      " |-- _FavoriteCount: long (nullable = true)\n",
      " |-- _Id: long (nullable = true)\n",
      " |-- _LastActivityDate: timestamp (nullable = true)\n",
      " |-- _LastEditDate: timestamp (nullable = true)\n",
      " |-- _LastEditorDisplayName: string (nullable = true)\n",
      " |-- _LastEditorUserId: long (nullable = true)\n",
      " |-- _OwnerDisplayName: string (nullable = true)\n",
      " |-- _OwnerUserId: long (nullable = true)\n",
      " |-- _ParentId: long (nullable = true)\n",
      " |-- _PostTypeId: long (nullable = true)\n",
      " |-- _Score: long (nullable = true)\n",
      " |-- _Tags: string (nullable = true)\n",
      " |-- _Title: string (nullable = true)\n",
      " |-- _ViewCount: long (nullable = true)\n",
      "\n"
     ]
    }
   ],
   "source": [
    "posts_sample.printSchema()"
   ]
  },
  {
   "cell_type": "code",
   "execution_count": 7,
   "id": "131fad09-63c5-4980-8c56-0e7d62f5ef3f",
   "metadata": {},
   "outputs": [],
   "source": [
    "#only need data\n",
    "posts_sample_need = posts_sample.select(posts_sample['_Tags'], posts_sample['_CreationDate'], posts_sample['_ViewCount'])\n",
    "lang_need = languages.select(languages['_c0']).collect()"
   ]
  },
  {
   "cell_type": "code",
   "execution_count": 8,
   "id": "f69d630e-9e4e-45b5-be97-015d3e0e4bd8",
   "metadata": {},
   "outputs": [
    {
     "name": "stdout",
     "output_type": "stream",
     "text": [
      "+------------------------------------------------------+-----------------------+----------+\n",
      "|_Tags                                                 |_CreationDate          |_ViewCount|\n",
      "+------------------------------------------------------+-----------------------+----------+\n",
      "|<c#><floating-point><type-conversion><double><decimal>|2008-08-01 02:42:52.667|42817     |\n",
      "|<html><css><internet-explorer-7>                      |2008-08-01 03:08:08.62 |18214     |\n",
      "|null                                                  |2008-08-01 03:17:57.883|null      |\n",
      "|<c#><.net><datetime>                                  |2008-08-01 04:40:59.743|555183    |\n",
      "|<c#><datetime><time><datediff><relative-time-span>    |2008-08-01 04:55:37.967|149445    |\n",
      "|null                                                  |2008-08-01 04:56:41.303|null      |\n",
      "|<html><browser><timezone><user-agent><timezone-offset>|2008-08-01 05:42:38.903|176405    |\n",
      "|<.net><math>                                          |2008-08-01 05:59:11.177|123231    |\n",
      "|null                                                  |2010-09-20 20:18:14.58 |null      |\n",
      "|null                                                  |2010-09-20 22:36:28.023|null      |\n",
      "+------------------------------------------------------+-----------------------+----------+\n",
      "only showing top 10 rows\n",
      "\n"
     ]
    }
   ],
   "source": [
    "posts_sample_need.show(10, False)"
   ]
  },
  {
   "cell_type": "code",
   "execution_count": 9,
   "id": "9744687a-9a51-4b3a-90ca-7af859103381",
   "metadata": {},
   "outputs": [
    {
     "data": {
      "text/plain": [
       "'A# .NET'"
      ]
     },
     "execution_count": 9,
     "metadata": {},
     "output_type": "execute_result"
    }
   ],
   "source": [
    "lang_need[1][0]"
   ]
  },
  {
   "cell_type": "markdown",
   "id": "2fa90e4f-e239-460e-9b44-19e213b02f21",
   "metadata": {},
   "source": [
    "Функция поиска языков программирования в строке тэгов"
   ]
  },
  {
   "cell_type": "code",
   "execution_count": 10,
   "id": "442a861c-5f72-4bf7-8d76-2161fbc1af4a",
   "metadata": {},
   "outputs": [],
   "source": [
    "def find_language(x):\n",
    "    if (x._Tags is None):\n",
    "        return None\n",
    "    for i in range(len(lang_need)):\n",
    "        if \"<\" + str(lang_need[i][0]).lower() + \">\" in str(x._Tags).lower():\n",
    "            return lang_need[i][0]\n",
    "    return None"
   ]
  },
  {
   "cell_type": "markdown",
   "id": "7879f192-7f58-443f-b848-dc28970d39ca",
   "metadata": {},
   "source": [
    "Функция вычленения года из полной даты"
   ]
  },
  {
   "cell_type": "code",
   "execution_count": 11,
   "id": "b13f88c3-3a90-458e-a357-03ec2e0115f9",
   "metadata": {},
   "outputs": [],
   "source": [
    "def get_year(x):\n",
    "    return str(x._CreationDate).split('-')[0]"
   ]
  },
  {
   "cell_type": "markdown",
   "id": "2407cd93-5bb0-4114-860b-9dc9aacf86fc",
   "metadata": {},
   "source": [
    "Для каждой записи проводим поиск по тэгам на предмет наличия тэга с языками программирования и для каждой записи форматируем дату"
   ]
  },
  {
   "cell_type": "code",
   "execution_count": 12,
   "id": "a91cc2bf-4a3b-4176-89e7-441cbe8d0176",
   "metadata": {},
   "outputs": [],
   "source": [
    "posts = posts_sample_need.rdd.map(lambda x: (find_language(x), get_year(x), x[2])).toDF([\"Language\", \"Year\", \"Count\"])"
   ]
  },
  {
   "cell_type": "code",
   "execution_count": 13,
   "id": "70dd355e-3c05-4c24-9fe3-6bcd1bdf18d8",
   "metadata": {},
   "outputs": [
    {
     "name": "stdout",
     "output_type": "stream",
     "text": [
      "+--------+----+------+\n",
      "|Language|Year|Count |\n",
      "+--------+----+------+\n",
      "|null    |2008|42817 |\n",
      "|null    |2008|18214 |\n",
      "|null    |2008|null  |\n",
      "|null    |2008|555183|\n",
      "|null    |2008|149445|\n",
      "|null    |2008|null  |\n",
      "|null    |2008|176405|\n",
      "|null    |2008|123231|\n",
      "|null    |2010|null  |\n",
      "|null    |2010|null  |\n",
      "|null    |2010|null  |\n",
      "|null    |2010|null  |\n",
      "|null    |2010|null  |\n",
      "|null    |2010|null  |\n",
      "|null    |2010|null  |\n",
      "|null    |2010|null  |\n",
      "|null    |2010|null  |\n",
      "|null    |2010|null  |\n",
      "|null    |2010|null  |\n",
      "|null    |2010|null  |\n",
      "|null    |2010|null  |\n",
      "|null    |2010|null  |\n",
      "|null    |2010|null  |\n",
      "|null    |2010|null  |\n",
      "|null    |2010|3650  |\n",
      "|null    |2010|null  |\n",
      "|null    |2010|null  |\n",
      "|null    |2010|null  |\n",
      "|null    |2010|null  |\n",
      "|null    |2010|null  |\n",
      "|null    |2010|617   |\n",
      "|null    |2010|1315  |\n",
      "|null    |2010|973   |\n",
      "|Java    |2010|132   |\n",
      "|null    |2010|null  |\n",
      "|null    |2010|null  |\n",
      "|null    |2010|null  |\n",
      "|null    |2010|null  |\n",
      "|null    |2010|419   |\n",
      "|null    |2010|null  |\n",
      "|null    |2010|null  |\n",
      "|null    |2010|null  |\n",
      "|null    |2010|869   |\n",
      "|null    |2010|null  |\n",
      "|null    |2010|null  |\n",
      "|null    |2010|1303  |\n",
      "|null    |2010|null  |\n",
      "|null    |2010|null  |\n",
      "|null    |2010|748   |\n",
      "|null    |2010|null  |\n",
      "|PHP     |2010|1258  |\n",
      "|null    |2010|null  |\n",
      "|null    |2010|null  |\n",
      "|null    |2010|null  |\n",
      "|null    |2010|14972 |\n",
      "|null    |2010|null  |\n",
      "|null    |2010|274   |\n",
      "|null    |2010|null  |\n",
      "|null    |2010|null  |\n",
      "|null    |2010|null  |\n",
      "|null    |2010|null  |\n",
      "|null    |2010|null  |\n",
      "|null    |2010|null  |\n",
      "|null    |2010|null  |\n",
      "|null    |2010|804   |\n",
      "|null    |2010|null  |\n",
      "|null    |2010|6019  |\n",
      "|null    |2010|null  |\n",
      "|null    |2010|null  |\n",
      "|null    |2010|5456  |\n",
      "|null    |2010|null  |\n",
      "|null    |2010|null  |\n",
      "|null    |2010|null  |\n",
      "|null    |2010|null  |\n",
      "|null    |2010|null  |\n",
      "|null    |2010|316   |\n",
      "|null    |2010|null  |\n",
      "|null    |2010|15477 |\n",
      "|null    |2010|null  |\n",
      "|null    |2010|null  |\n",
      "|null    |2010|null  |\n",
      "|null    |2010|null  |\n",
      "|null    |2010|null  |\n",
      "|null    |2010|null  |\n",
      "|null    |2010|null  |\n",
      "|null    |2010|null  |\n",
      "|Ruby    |2010|9649  |\n",
      "|null    |2010|20199 |\n",
      "|null    |2010|735   |\n",
      "|null    |2010|69    |\n",
      "|null    |2010|null  |\n",
      "|C       |2010|2384  |\n",
      "|null    |2010|null  |\n",
      "|null    |2010|4615  |\n",
      "|null    |2010|null  |\n",
      "|null    |2010|null  |\n",
      "|null    |2010|null  |\n",
      "|null    |2010|167   |\n",
      "|null    |2010|null  |\n",
      "|null    |2010|null  |\n",
      "+--------+----+------+\n",
      "only showing top 100 rows\n",
      "\n"
     ]
    }
   ],
   "source": [
    "posts.show(100, False)"
   ]
  },
  {
   "cell_type": "markdown",
   "id": "8b34356a-e467-4a31-bfc2-5615764664f7",
   "metadata": {},
   "source": [
    "Нужны только записи, где в тегах был язык программирования и count определен"
   ]
  },
  {
   "cell_type": "code",
   "execution_count": 21,
   "id": "ac2a6e06-9d08-40f4-bd72-3829d641e80f",
   "metadata": {},
   "outputs": [],
   "source": [
    "posts_filter = posts.filter('Language is not null and Count is not null')"
   ]
  },
  {
   "cell_type": "code",
   "execution_count": 22,
   "id": "7a702e71-7b96-4fd3-a18b-ac3cbd1e13f0",
   "metadata": {},
   "outputs": [
    {
     "name": "stdout",
     "output_type": "stream",
     "text": [
      "+------------+----+-----+\n",
      "|Language    |Year|Count|\n",
      "+------------+----+-----+\n",
      "|Java        |2010|132  |\n",
      "|PHP         |2010|1258 |\n",
      "|Ruby        |2010|9649 |\n",
      "|C           |2010|2384 |\n",
      "|PHP         |2010|1987 |\n",
      "|Python      |2010|3321 |\n",
      "|JavaScript  |2010|128  |\n",
      "|AppleScript |2010|477  |\n",
      "|PHP         |2010|1748 |\n",
      "|PHP         |2010|998  |\n",
      "|JavaScript  |2010|2095 |\n",
      "|Sed         |2010|447  |\n",
      "|Python      |2010|6558 |\n",
      "|Java        |2010|214  |\n",
      "|Objective-C |2010|852  |\n",
      "|JavaScript  |2010|179  |\n",
      "|R           |2010|6709 |\n",
      "|PHP         |2010|78   |\n",
      "|JavaScript  |2010|1280 |\n",
      "|PHP         |2010|205  |\n",
      "|C           |2010|261  |\n",
      "|C           |2010|270  |\n",
      "|C           |2011|168  |\n",
      "|Objective-C |2011|899  |\n",
      "|C           |2011|1611 |\n",
      "|JavaScript  |2011|1216 |\n",
      "|Java        |2011|1713 |\n",
      "|C           |2011|245  |\n",
      "|PHP         |2011|352  |\n",
      "|PHP         |2011|85   |\n",
      "|PHP         |2011|133  |\n",
      "|Ruby        |2011|57   |\n",
      "|JavaScript  |2011|1198 |\n",
      "|ColdFusion  |2011|47   |\n",
      "|Java        |2011|2130 |\n",
      "|Java        |2011|134  |\n",
      "|Java        |2011|172  |\n",
      "|Perl        |2011|4534 |\n",
      "|PHP         |2011|761  |\n",
      "|PHP         |2011|60   |\n",
      "|PHP         |2011|118  |\n",
      "|JavaScript  |2011|1912 |\n",
      "|Java        |2011|13310|\n",
      "|ColdFusion  |2011|79   |\n",
      "|JavaScript  |2011|1535 |\n",
      "|Java        |2011|4973 |\n",
      "|JavaScript  |2011|198  |\n",
      "|JavaScript  |2011|3359 |\n",
      "|Bash        |2011|14716|\n",
      "|C           |2011|479  |\n",
      "|Java        |2011|1280 |\n",
      "|ColdFusion  |2011|1278 |\n",
      "|Objective-C |2013|62   |\n",
      "|Java        |2013|6930 |\n",
      "|PowerShell  |2013|746  |\n",
      "|Scala       |2013|210  |\n",
      "|JavaScript  |2013|155  |\n",
      "|Java        |2013|1372 |\n",
      "|JavaScript  |2013|5248 |\n",
      "|Java        |2013|3449 |\n",
      "|Python      |2013|86   |\n",
      "|JavaScript  |2013|8839 |\n",
      "|PHP         |2013|75   |\n",
      "|Python      |2013|7212 |\n",
      "|Java        |2013|62   |\n",
      "|Java        |2013|1564 |\n",
      "|JavaScript  |2013|138  |\n",
      "|PHP         |2013|114  |\n",
      "|ActionScript|2013|30   |\n",
      "|JavaScript  |2013|439  |\n",
      "|JavaScript  |2013|413  |\n",
      "|Java        |2013|2417 |\n",
      "|Java        |2013|84   |\n",
      "|PHP         |2013|118  |\n",
      "|PHP         |2013|378  |\n",
      "|PHP         |2013|230  |\n",
      "|PHP         |2013|107  |\n",
      "|Java        |2013|3408 |\n",
      "|PHP         |2013|898  |\n",
      "|Python      |2013|363  |\n",
      "|Python      |2013|106  |\n",
      "|Bash        |2013|835  |\n",
      "|Groovy      |2013|109  |\n",
      "|PHP         |2013|195  |\n",
      "|Objective-C |2013|567  |\n",
      "|C           |2013|345  |\n",
      "|Python      |2013|78   |\n",
      "|Ruby        |2013|236  |\n",
      "|PHP         |2014|69   |\n",
      "|PHP         |2014|148  |\n",
      "|Java        |2014|188  |\n",
      "|Java        |2014|806  |\n",
      "|Objective-C |2014|299  |\n",
      "|JavaScript  |2014|73   |\n",
      "|Ruby        |2014|93   |\n",
      "|Ruby        |2014|282  |\n",
      "|JavaScript  |2014|328  |\n",
      "|Java        |2014|3591 |\n",
      "|PHP         |2014|39919|\n",
      "|Java        |2014|3125 |\n",
      "+------------+----+-----+\n",
      "only showing top 100 rows\n",
      "\n"
     ]
    }
   ],
   "source": [
    "posts_filter.show(100, False)"
   ]
  },
  {
   "cell_type": "markdown",
   "id": "1ab55ef0-8f27-417a-a7e6-c63223fcc674",
   "metadata": {},
   "source": [
    "Складываем count записей по тэгу (ЯП) и сортруем записи от самых многочисленных до самых малочисленных"
   ]
  },
  {
   "cell_type": "code",
   "execution_count": 42,
   "id": "5f0a056f-4055-49a7-b665-82433a7d21fa",
   "metadata": {},
   "outputs": [],
   "source": [
    "from datetime import datetime\n",
    "final_result = {}\n",
    "for year in range(2010, 2020):\n",
    "    posts_year = posts_filter.filter('Year = ' + str(year))\n",
    "    final_result[year] = posts_year.rdd\\\n",
    "        .map(lambda x: (x[0], x[2]))\\\n",
    "        .reduceByKey(lambda x1, x2: x1 + x2)\\\n",
    "        .sortBy(lambda x: x[1], ascending=False)\\\n",
    "        .toDF()"
   ]
  },
  {
   "cell_type": "code",
   "execution_count": 50,
   "id": "cd4b3025-2ae0-40f7-8ff4-d95f2c806599",
   "metadata": {},
   "outputs": [
    {
     "name": "stdout",
     "output_type": "stream",
     "text": [
      "+-----------+-------+\n",
      "|         _1|     _2|\n",
      "+-----------+-------+\n",
      "|        PHP|1184584|\n",
      "|       Java| 563211|\n",
      "| JavaScript| 316131|\n",
      "|Objective-C|  97009|\n",
      "|       Ruby|  76001|\n",
      "+-----------+-------+\n",
      "only showing top 5 rows\n",
      "\n"
     ]
    }
   ],
   "source": [
    "final_result[2010].show(5)"
   ]
  },
  {
   "cell_type": "markdown",
   "id": "457f9987-d468-4d3e-aa84-0f5247c3a2f4",
   "metadata": {},
   "source": [
    "Делаем отчет для каждого года из диапазона"
   ]
  },
  {
   "cell_type": "code",
   "execution_count": 54,
   "id": "861fb19d-b95c-4216-bfb2-fff2ea2c0198",
   "metadata": {},
   "outputs": [
    {
     "name": "stdout",
     "output_type": "stream",
     "text": [
      "+-----------+----------+\n",
      "|   Language|Count_2010|\n",
      "+-----------+----------+\n",
      "|        PHP|   1184584|\n",
      "|       Java|    563211|\n",
      "| JavaScript|    316131|\n",
      "|Objective-C|     97009|\n",
      "|       Ruby|     76001|\n",
      "|          C|     66587|\n",
      "|     Python|     59392|\n",
      "|     MATLAB|     51865|\n",
      "|AppleScript|     32305|\n",
      "|     Delphi|     11817|\n",
      "+-----------+----------+\n",
      "\n",
      "+-----------+----------+\n",
      "|   Language|Count_2011|\n",
      "+-----------+----------+\n",
      "| JavaScript|    806948|\n",
      "|       Java|    388524|\n",
      "|        PHP|    243646|\n",
      "|          C|    238277|\n",
      "|Objective-C|    218762|\n",
      "|     Python|    195016|\n",
      "|       Bash|     60805|\n",
      "|       Ruby|     33037|\n",
      "|       Perl|     24465|\n",
      "|     MATLAB|     18816|\n",
      "+-----------+----------+\n",
      "\n",
      "+-----------+----------+\n",
      "|   Language|Count_2012|\n",
      "+-----------+----------+\n",
      "|       Java|    661770|\n",
      "| JavaScript|    571343|\n",
      "|        PHP|    414479|\n",
      "|     Python|    266658|\n",
      "|       Ruby|    101824|\n",
      "|Objective-C|     94438|\n",
      "|          C|     69276|\n",
      "|          R|     43917|\n",
      "|      Scala|     24592|\n",
      "|    Haskell|     23046|\n",
      "+-----------+----------+\n",
      "\n",
      "+-----------+----------+\n",
      "|   Language|Count_2013|\n",
      "+-----------+----------+\n",
      "|       Java|   1035218|\n",
      "| JavaScript|    607937|\n",
      "|        PHP|    432795|\n",
      "|Objective-C|    401254|\n",
      "|     Python|    159360|\n",
      "| PowerShell|    154758|\n",
      "|       Bash|     72161|\n",
      "|       Chef|     62421|\n",
      "|       Ruby|     55608|\n",
      "|         Io|     44228|\n",
      "+-----------+----------+\n",
      "\n",
      "+-----------+----------+\n",
      "|   Language|Count_2014|\n",
      "+-----------+----------+\n",
      "| JavaScript|    505138|\n",
      "|       Java|    434130|\n",
      "|     Python|    238294|\n",
      "|        PHP|    231735|\n",
      "|          C|     87281|\n",
      "|Objective-C|     56029|\n",
      "|          R|     50113|\n",
      "|      Scala|     40429|\n",
      "|     Delphi|     23684|\n",
      "|       Ruby|     20101|\n",
      "+-----------+----------+\n",
      "\n",
      "+----------+----------+\n",
      "|  Language|Count_2015|\n",
      "+----------+----------+\n",
      "|JavaScript|    338223|\n",
      "|    Python|    278450|\n",
      "|      Java|    270212|\n",
      "|       PHP|    128737|\n",
      "|         R|     60437|\n",
      "|      ABAP|     30613|\n",
      "|     Scala|     25544|\n",
      "|      Bash|     25004|\n",
      "|         C|     20084|\n",
      "|        Go|     11625|\n",
      "+----------+----------+\n",
      "\n",
      "+----------+----------+\n",
      "|  Language|Count_2016|\n",
      "+----------+----------+\n",
      "|JavaScript|    230662|\n",
      "|    Python|    217851|\n",
      "|      Java|    168691|\n",
      "|       PHP|     98009|\n",
      "|         R|     48880|\n",
      "|PowerShell|     36175|\n",
      "|         C|     17568|\n",
      "|        Go|     13062|\n",
      "|TypeScript|     12478|\n",
      "|      Ruby|     11954|\n",
      "+----------+----------+\n",
      "\n",
      "+-----------+----------+\n",
      "|   Language|Count_2017|\n",
      "+-----------+----------+\n",
      "|       Java|    149826|\n",
      "| JavaScript|    146170|\n",
      "|     Python|    126730|\n",
      "|        PHP|     52754|\n",
      "|     Kotlin|     25082|\n",
      "|          R|     24360|\n",
      "| TypeScript|     14632|\n",
      "|          C|      6113|\n",
      "|Objective-C|      5795|\n",
      "|     Delphi|      5758|\n",
      "+-----------+----------+\n",
      "\n",
      "+----------+----------+\n",
      "|  Language|Count_2018|\n",
      "+----------+----------+\n",
      "|    Python|     98323|\n",
      "|JavaScript|     63598|\n",
      "|      Java|     40034|\n",
      "|       PHP|     33165|\n",
      "|TypeScript|     24088|\n",
      "|    Kotlin|     13149|\n",
      "|         R|     10771|\n",
      "|PowerShell|      7300|\n",
      "|      Dart|      6445|\n",
      "|     Scala|      4347|\n",
      "+----------+----------+\n",
      "\n",
      "+----------+----------+\n",
      "|  Language|Count_2019|\n",
      "+----------+----------+\n",
      "|    Python|     18622|\n",
      "|JavaScript|     13006|\n",
      "|      Java|      5942|\n",
      "|       PHP|      3524|\n",
      "|      Dart|      2205|\n",
      "|         R|      1363|\n",
      "|    Delphi|      1173|\n",
      "|         C|      1111|\n",
      "|    Kotlin|       712|\n",
      "|PowerShell|       699|\n",
      "+----------+----------+\n",
      "\n"
     ]
    }
   ],
   "source": [
    "from pyspark.sql.functions import col\n",
    "for year in range(2010, 2020):\n",
    "    #final_result[year] = final_result[year].select(col(\"_1\").alias(\"Language\"), col(\"_2\").alias(f\"Count_{year}\")).limit(10)\n",
    "    final_result[year].show()\n",
    "    final_result[year].write.format(\"parquet\").save(f\"{year}\")"
   ]
  },
  {
   "cell_type": "code",
   "execution_count": 58,
   "id": "63519806-6cd2-4f4f-9969-28c8627bb0e1",
   "metadata": {},
   "outputs": [
    {
     "name": "stdout",
     "output_type": "stream",
     "text": [
      "Found 32 items\n",
      "drwxr-xr-x   - vylerinna vylerinna          0 2023-12-17 22:15 .sparkStaging\n",
      "drwxr-xr-x   - vylerinna vylerinna          2 2023-12-17 23:08 2010\n",
      "drwxr-xr-x   - vylerinna vylerinna          2 2023-12-17 23:08 2011\n",
      "drwxr-xr-x   - vylerinna vylerinna          2 2023-12-17 23:08 2012\n",
      "drwxr-xr-x   - vylerinna vylerinna          2 2023-12-17 23:09 2013\n",
      "drwxr-xr-x   - vylerinna vylerinna          2 2023-12-17 23:09 2014\n",
      "drwxr-xr-x   - vylerinna vylerinna          2 2023-12-17 23:09 2015\n",
      "drwxr-xr-x   - vylerinna vylerinna          2 2023-12-17 23:09 2016\n",
      "drwxr-xr-x   - vylerinna vylerinna          2 2023-12-17 23:09 2017\n",
      "drwxr-xr-x   - vylerinna vylerinna          2 2023-12-17 23:09 2018\n",
      "drwxr-xr-x   - vylerinna vylerinna          2 2023-12-17 23:09 2019\n",
      "drwxr-xr-x   - vylerinna vylerinna          2 2023-11-20 19:23 data\n",
      "drwxr-xr-x   - vylerinna vylerinna          0 2023-11-20 19:26 labs\n",
      "-rwxr-xr-x   3 vylerinna vylerinna   79500408 2023-11-20 19:56 nyctaxi.csv\n",
      "-rwxr-xr-x   3 vylerinna vylerinna   74162295 2023-12-17 19:47 posts_sample.xml\n",
      "-rwxr-xr-x   3 vylerinna vylerinna      40269 2023-12-17 19:35 programming-languages.csv\n",
      "drwxr-xr-x   - vylerinna vylerinna          0 2023-11-20 22:22 spark-warehouse\n",
      "-rwxr-xr-x   3 vylerinna vylerinna       5647 2023-11-20 19:50 station.csv\n",
      "-rwxr-xr-x   3 vylerinna vylerinna   69206016 2023-11-20 19:50 trip.csv\n",
      "drwxr-xr-x   - vylerinna vylerinna          2 2023-11-20 20:35 warandpeace_histogram.txt\n",
      "drwxr-xr-x   - vylerinna vylerinna          2 2023-11-20 20:36 warandpeace_histogram1.txt\n",
      "drwxr-xr-x   - vylerinna vylerinna          0 2023-12-17 13:22 warandpeace_histogram111.txt\n",
      "drwxr-xr-x   - vylerinna vylerinna          0 2023-12-17 13:40 warandpeace_histogram17.txt\n",
      "drwxr-xr-x   - vylerinna vylerinna          2 2023-11-20 21:04 warandpeace_histogram2.txt\n",
      "drwxr-xr-x   - vylerinna vylerinna          2 2023-11-20 21:05 warandpeace_histogram3.txt\n",
      "drwxr-xr-x   - vylerinna vylerinna          2 2023-11-20 21:09 warandpeace_histogram4.txt\n",
      "drwxr-xr-x   - vylerinna vylerinna          2 2023-11-20 21:12 warandpeace_histogram5.txt\n",
      "drwxr-xr-x   - vylerinna vylerinna          2 2023-11-20 21:13 warandpeace_histogram6.txt\n",
      "drwxr-xr-x   - vylerinna vylerinna          2 2023-11-20 21:15 warandpeace_histogram7.txt\n",
      "drwxr-xr-x   - vylerinna vylerinna          0 2023-12-17 13:22 warandpeace_histogram8.txt\n",
      "drwxr-xr-x   - vylerinna vylerinna          2 2023-11-20 21:28 warandpeace_histogramRegular.txt\n",
      "-rwxr-xr-x   3 vylerinna vylerinna    5315699 2023-11-20 19:50 warandsociety.txt\n"
     ]
    }
   ],
   "source": [
    "!hadoop fs -ls"
   ]
  },
  {
   "cell_type": "code",
   "execution_count": 69,
   "id": "a1d0e94e-2e40-4f8d-9f80-bdc29bc4b8cc",
   "metadata": {},
   "outputs": [],
   "source": [
    "!hadoop fs -get \"2019\"  ."
   ]
  },
  {
   "cell_type": "code",
   "execution_count": null,
   "id": "a58b9a38-0227-488d-ab4b-80a497a39583",
   "metadata": {},
   "outputs": [],
   "source": []
  }
 ],
 "metadata": {
  "kernelspec": {
   "display_name": "Python 3",
   "language": "python",
   "name": "python3"
  },
  "language_info": {
   "codemirror_mode": {
    "name": "ipython",
    "version": 3
   },
   "file_extension": ".py",
   "mimetype": "text/x-python",
   "name": "python",
   "nbconvert_exporter": "python",
   "pygments_lexer": "ipython3",
   "version": "3.9.5"
  }
 },
 "nbformat": 4,
 "nbformat_minor": 5
}
